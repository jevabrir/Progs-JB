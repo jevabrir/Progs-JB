{
  "nbformat": 4,
  "nbformat_minor": 0,
  "metadata": {
    "colab": {
      "provenance": [],
      "authorship_tag": "ABX9TyOYc2ElswePSJ9uysDO/0rl",
      "include_colab_link": true
    },
    "kernelspec": {
      "name": "python3",
      "display_name": "Python 3"
    },
    "language_info": {
      "name": "python"
    }
  },
  "cells": [
    {
      "cell_type": "markdown",
      "metadata": {
        "id": "view-in-github",
        "colab_type": "text"
      },
      "source": [
        "<a href=\"https://colab.research.google.com/github/jevabrir/Progs-JB/blob/main/Interpolaci%C3%B3n.ipynb\" target=\"_parent\"><img src=\"https://colab.research.google.com/assets/colab-badge.svg\" alt=\"Open In Colab\"/></a>"
      ]
    },
    {
      "cell_type": "markdown",
      "source": [
        "##**Código para generar Interpolación Lineal**\n",
        "\n",
        "**Descripción del programa:**  \n",
        "\n",
        "Este código genera un mapa de interpolación espacial a partir de datos muestreados en coordenadas **x**, y **y** valores asociados **z** (nivel de contamiante), utilizando Python y sus bibliotecas científicas.   \n",
        "\n",
        "Emplea una interpolación lineal para estimar valores sobre una malla regular, y visualiza el resultado mediante un mapa de isolíneas (contour map).\n",
        "\n",
        "El programa realiza las siguientes tareas:\n",
        "\n",
        "*   **Interpolación de datos:** Usa scipy.interpolate.griddata para generar una superficie continua a partir de los puntos discretos muestreados.\n",
        "\n",
        "*   **Visualización:** Crea un mapa de color continuo (contourf) para representar los valores interpolados.\n",
        "\n",
        "*   **Dibuja isolíneas** en color negro cada 0.5 unidades (contour), etiquetadas con sus valores.\n",
        "\n",
        "*   **Muestra los puntos de muestreo** con marcadores blancos con borde negro.\n",
        "\n",
        "*   **Añade etiquetas** numéricas sobre cada punto muestreado.\n",
        "\n",
        "*   **Exportación del gráfico:** Guarda la visualización como una imagen PNG con fondo transparente y alta resolución (300 dpi).  \n",
        "\n",
        "\n",
        "Este tipo de representación es útil para visualizar distribuciones espaciales, como concentraciones de contaminantes, temperatura, humedad o cualquier otra variable continua en una región geográfica"
      ],
      "metadata": {
        "id": "zuGK6vf88sE1"
      }
    },
    {
      "cell_type": "code",
      "source": [
        "import pandas as pd\n",
        "import numpy as np\n",
        "import matplotlib.pyplot as plt\n",
        "from scipy.interpolate import griddata\n",
        "#from PIL import Image"
      ],
      "metadata": {
        "id": "QZWu4rIk5myB"
      },
      "execution_count": null,
      "outputs": []
    },
    {
      "cell_type": "code",
      "source": [
        "# 1. Leer archivo .CSV que contiene la información\n",
        "df = pd.read_csv(\"datos_interpolacion_utm.csv\")\n",
        "df.head(5)"
      ],
      "metadata": {
        "id": "6Kdsbr9Z8qi2"
      },
      "execution_count": null,
      "outputs": []
    },
    {
      "cell_type": "code",
      "source": [
        "# Imputar valores faltantes en columnas numéricas con la media\n",
        "df.fillna(df.mean(numeric_only=True), inplace=True)"
      ],
      "metadata": {
        "id": "0H99Fn9I7rdz"
      },
      "execution_count": null,
      "outputs": []
    },
    {
      "cell_type": "code",
      "source": [
        "x = df[\"CoorX\"].values\n",
        "y = df[\"CoorY\"].values\n",
        "z = df[\"NivelCont\"].values"
      ],
      "metadata": {
        "id": "I87eaLwu5pA2"
      },
      "execution_count": null,
      "outputs": []
    },
    {
      "cell_type": "code",
      "source": [
        "# Interpolación\n",
        "xi = np.linspace(min(x), max(x), 300)\n",
        "yi = np.linspace(min(y), max(y), 300)\n",
        "xi, yi = np.meshgrid(xi, yi)\n",
        "zi = griddata((x, y), z, (xi, yi), method='cubic')"
      ],
      "metadata": {
        "id": "EpAoRQbw9uAA"
      },
      "execution_count": null,
      "outputs": []
    },
    {
      "cell_type": "code",
      "source": [
        "import numpy as np\n",
        "\n",
        "# Crear imagen del mapa\n",
        "fig, ax = plt.subplots(figsize=(8, 8))\n",
        "\n",
        "# Definir niveles con paso de 0.5 unidades\n",
        "min_z = np.floor(np.nanmin(z))\n",
        "max_z = np.ceil(np.nanmax(z))\n",
        "levels = np.arange(min_z, max_z + 0.5, 0.5)\n",
        "\n",
        "# Mapa de colores\n",
        "contourf = ax.contourf(xi, yi, zi, levels=levels, cmap='bwr')\n",
        "\n",
        "#se puede cambiar el cmap por:\n",
        "#    'coolwarm' – azul claro → blanco → rojo claro\n",
        "#    'bwr' – azul → blanco → rojo\n",
        "#    'seismic' – azul fuerte → blanco → rojo fuerte\n",
        "#    'PiYG' – rosa → verde\n",
        "#    'RdBu' – rojo → azul\n",
        "\n",
        "# Barra de color (escala)\n",
        "cbar = plt.colorbar(contourf, ax=ax, orientation='vertical', fraction=0.046, pad=0.04)\n",
        "cbar.set_label('Valores de Z', fontsize=12)\n",
        "cbar.ax.tick_params(labelsize=10)\n",
        "\n",
        "# Isolíneas negras\n",
        "contour_lines = ax.contour(xi, yi, zi, levels=levels, colors='black', linewidths=1.2)\n",
        "ax.clabel(contour_lines, fmt=\"%.1f\", fontsize=8, colors='black')  # Etiquetas en las líneas\n",
        "\n",
        "# Puntos muestreados\n",
        "plt.scatter(x, y, c='white', edgecolor='black', s=75, label='Puntos muestreados')\n",
        "for i in range(len(x)):\n",
        "    ax.text(x[i], y[i], f\"{z[i]:.1f}\", fontsize=12, ha='center', va='bottom', color='black')\n",
        "\n",
        "plt.axis('off')\n",
        "plt.legend(loc='upper left')\n",
        "img_path = \"isolineas.png\"\n",
        "plt.savefig(img_path, dpi=300, bbox_inches='tight', pad_inches=0, transparent=True)\n",
        "# plt.close()\n"
      ],
      "metadata": {
        "id": "6YRZ7AO67aiV"
      },
      "execution_count": null,
      "outputs": []
    },
    {
      "cell_type": "code",
      "source": [
        "from mpl_toolkits.mplot3d import Axes3D  # Importar proyección 3D\n",
        "\n",
        "# === 4. Crear gráfico 3D ===\n",
        "fig = plt.figure(figsize=(10, 8))\n",
        "ax = fig.add_subplot(111, projection='3d')\n",
        "\n",
        "# Superficie interpolada en 3D\n",
        "surf = ax.plot_surface(xi, yi, zi, cmap='bwr', edgecolor='none', alpha=0.9)\n",
        "\n",
        "# Puntos muestreados en 3D\n",
        "ax.scatter(x, y, z, color='black', s=50, label='Puntos muestreados')\n",
        "\n",
        "# Etiquetas sobre los puntos\n",
        "for i in range(len(x)):\n",
        "    ax.text(x[i], y[i], z[i] + 0.1, f\"{z[i]:.1f}\", fontsize=8, ha='center', va='bottom', color='black')\n",
        "\n",
        "# Etiquetas de ejes\n",
        "ax.set_xlabel('X')\n",
        "ax.set_ylabel('Y')\n",
        "ax.set_zlabel('Z')\n",
        "\n",
        "# Personalización visual\n",
        "fig.colorbar(surf, ax=ax, shrink=0.5, aspect=10, label='Valor interpolado')\n",
        "ax.view_init(elev=30, azim=135)  # Ángulo de vista (elevación y azimut)\n",
        "ax.set_title('Mapa 3D de Interpolación Espacial')\n",
        "\n",
        "# Guardar imagen\n",
        "fig.savefig(\"mapa_3d.png\", dpi=300, bbox_inches='tight')\n",
        "# plt.close()\n"
      ],
      "metadata": {
        "id": "HfM0_ZbS-rQM"
      },
      "execution_count": null,
      "outputs": []
    }
  ]
}